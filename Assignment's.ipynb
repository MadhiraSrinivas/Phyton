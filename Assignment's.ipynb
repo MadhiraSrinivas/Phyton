{
  "nbformat": 4,
  "nbformat_minor": 0,
  "metadata": {
    "colab": {
      "provenance": [],
      "authorship_tag": "ABX9TyM5X+s5dOK8u6jNL+CiMhMB",
      "include_colab_link": true
    },
    "kernelspec": {
      "name": "python3",
      "display_name": "Python 3"
    },
    "language_info": {
      "name": "python"
    }
  },
  "cells": [
    {
      "cell_type": "markdown",
      "metadata": {
        "id": "view-in-github",
        "colab_type": "text"
      },
      "source": [
        "<a href=\"https://colab.research.google.com/github/MadhiraSrinivas/Phyton/blob/main/Assignment's.ipynb\" target=\"_parent\"><img src=\"https://colab.research.google.com/assets/colab-badge.svg\" alt=\"Open In Colab\"/></a>"
      ]
    },
    {
      "cell_type": "markdown",
      "source": [
        "***Assignment Work***"
      ],
      "metadata": {
        "id": "bKvt2yZgpCn-"
      }
    },
    {
      "cell_type": "code",
      "execution_count": 1,
      "metadata": {
        "colab": {
          "base_uri": "https://localhost:8080/"
        },
        "id": "oQa8Qprqo9no",
        "outputId": "53e51c65-0772-4782-9d33-97d028b02072"
      },
      "outputs": [
        {
          "output_type": "stream",
          "name": "stdout",
          "text": [
            "Srinivasa Reddy Madhira\n",
            "Playing Badminton\n",
            "2 hours\n"
          ]
        }
      ],
      "source": [
        "#Assignment #1\n",
        "#-------------\n",
        "print(\"Srinivasa Reddy Madhira\")\n",
        "print(\"Playing Badminton\")\n",
        "print(\"2 hours\")"
      ]
    },
    {
      "cell_type": "code",
      "source": [
        "#Assignment 2: Working with Variables\n",
        "#-----------------------------------\n",
        "name=\"Srini\"\n",
        "age=35\n",
        "fc=\"Blue\"\n",
        "print(\"My name is \",name,\"I am \",age,\"years old, \",\"and my favorite color is\",fc)"
      ],
      "metadata": {
        "colab": {
          "base_uri": "https://localhost:8080/"
        },
        "id": "r-Hw0b5hpR3Q",
        "outputId": "a88cf02d-198c-4f7f-cd2c-712db6f78048"
      },
      "execution_count": 2,
      "outputs": [
        {
          "output_type": "stream",
          "name": "stdout",
          "text": [
            "My name is  Srini I am  35 years old,  and my favorite color is Blue\n"
          ]
        }
      ]
    },
    {
      "cell_type": "code",
      "source": [
        "# Assignment 3: Simple Input and Output\n",
        "#--------------------------------------\n",
        "fname=input(\"Enter your First Name :\")\n",
        "lname=input(\"Enter your Last Name :\")\n",
        "age=int(input(\"Enter your age :\"))\n",
        "\n",
        "print(\"Hello, \",fname,lname,\"! Next year, you will be\", age+1, \"years old.\")"
      ],
      "metadata": {
        "colab": {
          "base_uri": "https://localhost:8080/"
        },
        "id": "RDOWiKxcpXED",
        "outputId": "fec36bb7-21d0-4b96-aa22-86f6484a5c96"
      },
      "execution_count": 3,
      "outputs": [
        {
          "output_type": "stream",
          "name": "stdout",
          "text": [
            "Enter your First Name :Madhira\n",
            "Enter your Last Name :Srinivasareddy\n",
            "Enter your age :35\n",
            "Hello,  Madhira Srinivasareddy ! Next year, you will be 36 years old.\n"
          ]
        }
      ]
    },
    {
      "cell_type": "code",
      "source": [
        "# Assignment 4: Basic Arithmetic\n",
        "#------------------------------\n",
        "num1=int(input(\"Enter a number : \"))\n",
        "num2=int(input(\"Enter second number\"))\n",
        "print(\"Add :\",num1+num2)\n",
        "print(\"Diff :\",num1-num2)\n",
        "print(\"Mul :\",num1*num2)\n",
        "print(\"Div :\",num1/num2)"
      ],
      "metadata": {
        "colab": {
          "base_uri": "https://localhost:8080/"
        },
        "id": "GwcV8Pbzpfbe",
        "outputId": "074ac652-9500-4308-e7ee-f453fb7ac97a"
      },
      "execution_count": 4,
      "outputs": [
        {
          "output_type": "stream",
          "name": "stdout",
          "text": [
            "Enter a number : 5\n",
            "Enter second number10\n",
            "Add : 15\n",
            "Diff : -5\n",
            "Mul : 50\n",
            "Div : 0.5\n"
          ]
        }
      ]
    },
    {
      "cell_type": "code",
      "source": [
        "#Assignment 5: Combining Strings and Numbers\n",
        "#Enter your name: Alice\n",
        "#Enter your favorite number: 7\n",
        "#Hello, Alice! Did you know that 7 times 2 is 14?\n",
        "\n",
        "name=input(\"Enter your name :\")\n",
        "num=int(input(\"Enter your faviourit number\"))\n",
        "print(\"Hello, \",name,\"Did you know that\",num,\"times 2 is \",num*2,\"?\")"
      ],
      "metadata": {
        "colab": {
          "base_uri": "https://localhost:8080/"
        },
        "id": "m5pwWTCdpm2-",
        "outputId": "f49ea5c6-739a-470f-d66e-2a5f34fe4fd3"
      },
      "execution_count": 5,
      "outputs": [
        {
          "output_type": "stream",
          "name": "stdout",
          "text": [
            "Enter your name :Srini\n",
            "Enter your faviourit number9\n",
            "Hello,  Srini Did you know that 9 times 2 is  18 ?\n"
          ]
        }
      ]
    },
    {
      "cell_type": "code",
      "source": [
        "#Assignement 6\n",
        "#Child\" if the age is less than 13 - Done\n",
        "#Teenager\" if the age is between 13 and 19\n",
        "#Adult\" if the age is between 20 and 64\n",
        "#Senior\" if the age is 65 or older\n",
        "\n",
        "age = int(input(\"Enter your Age :\"))\n",
        "if(age<13):\n",
        "  print(\"Your are a Child\")\n",
        "if(age>=13 and age<=19):\n",
        "    print(\"You are a Teenager\")\n",
        "if(age>19 and age<65):\n",
        "    print(\"You are a Adult\")\n",
        "else:\n",
        "  print(\"You are a Senior\")"
      ],
      "metadata": {
        "colab": {
          "base_uri": "https://localhost:8080/"
        },
        "id": "4sBFSeBGpvYY",
        "outputId": "bae1884d-59dc-4458-ca7e-3287ebb63552"
      },
      "execution_count": 6,
      "outputs": [
        {
          "output_type": "stream",
          "name": "stdout",
          "text": [
            "Enter your Age :35\n",
            "You are a Adult\n"
          ]
        }
      ]
    },
    {
      "cell_type": "code",
      "source": [
        "#Assignment 7\n",
        "#Check if the first number is greater than the second number.\n",
        "#Check if the two numbers are equal.\n",
        "#Check if the first number is less than or equal to the second number.\n",
        "#Print appropriate messages based on the comparisons.\n",
        "\n",
        "n1=int(input(\"Enter a number\"))\n",
        "n2=int(input(\"Enter a number\"))\n",
        "if(n1>n2):\n",
        "  print(n1,\"is greater than \",n2)\n",
        "if(n1==n2):\n",
        "  print(\"Both\",n1,n2,\"are equal\")\n",
        "if(n1<n2):\n",
        "  print(n1,\"is less than\",n2)"
      ],
      "metadata": {
        "colab": {
          "base_uri": "https://localhost:8080/"
        },
        "id": "wJcbl-l6p3Wt",
        "outputId": "ff32f0e8-75b4-4639-cbfe-355ed80e4ac4"
      },
      "execution_count": 7,
      "outputs": [
        {
          "output_type": "stream",
          "name": "stdout",
          "text": [
            "Enter a number5\n",
            "Enter a number10\n",
            "5 is less than 10\n"
          ]
        }
      ]
    },
    {
      "cell_type": "code",
      "source": [
        "#Assignment 8\n",
        "#Ask the user to input two numbers.\n",
        "#Ask the user to choose an operation (+, -, *, /).\n",
        "#Perform the operation on the two numbers and print the result.\n",
        "#Handle cases where the user might enter an invalid operation\n",
        "\n",
        "n1=int(input(\"Enter a number : \"))\n",
        "n2=int(input(\"Enter a number : \"))\n",
        "oper=input(\"Enter Operation : \")\n",
        "\n",
        "if(oper==\"+\"):\n",
        "  result = n1+n2\n",
        "  print(\"Result is\",result)\n",
        "elif(oper==\"-\"):\n",
        "  result = n1-n2\n",
        "  print(\"Result is\",result)\n",
        "elif(oper==\"*\"):\n",
        "  result = n1*n2\n",
        "  print(\"Result is\",result)\n",
        "elif(oper==\"/\"):\n",
        "  result = n1/n2\n",
        "  print(\"Result is\",result)\n",
        "else:\n",
        "  print(\"You have entered invalid Operation\")"
      ],
      "metadata": {
        "colab": {
          "base_uri": "https://localhost:8080/"
        },
        "id": "rfsgBw-dqBul",
        "outputId": "420be9b5-9ce0-43ac-b258-747a7c97e28e"
      },
      "execution_count": 8,
      "outputs": [
        {
          "output_type": "stream",
          "name": "stdout",
          "text": [
            "Enter a number : 10\n",
            "Enter a number : 20\n",
            "Enter Operation : *\n",
            "Result is 200\n"
          ]
        }
      ]
    },
    {
      "cell_type": "code",
      "source": [
        "#Assignment 9: Sum of Even Numbers\n",
        "total = 0\n",
        "for num in range(1,11):\n",
        "  if(num%2==0):\n",
        "    total=total+num\n",
        "print(\"Sum of even numbers between 1 to 10 is\",total)"
      ],
      "metadata": {
        "colab": {
          "base_uri": "https://localhost:8080/"
        },
        "id": "jLsTxD0hqMsu",
        "outputId": "218d3d4a-4c7e-402f-bbc5-ede597d5a415"
      },
      "execution_count": 9,
      "outputs": [
        {
          "output_type": "stream",
          "name": "stdout",
          "text": [
            "Sum of even numbers between 1 to 10 is 30\n"
          ]
        }
      ]
    }
  ]
}