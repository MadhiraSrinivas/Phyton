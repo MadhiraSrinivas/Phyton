{
  "nbformat": 4,
  "nbformat_minor": 0,
  "metadata": {
    "colab": {
      "provenance": [],
      "authorship_tag": "ABX9TyNFvpH7jsBm7QJfXAK7nokQ",
      "include_colab_link": true
    },
    "kernelspec": {
      "name": "python3",
      "display_name": "Python 3"
    },
    "language_info": {
      "name": "python"
    }
  },
  "cells": [
    {
      "cell_type": "markdown",
      "metadata": {
        "id": "view-in-github",
        "colab_type": "text"
      },
      "source": [
        "<a href=\"https://colab.research.google.com/github/MadhiraSrinivas/Phyton/blob/main/Assignment's.ipynb\" target=\"_parent\"><img src=\"https://colab.research.google.com/assets/colab-badge.svg\" alt=\"Open In Colab\"/></a>"
      ]
    },
    {
      "cell_type": "markdown",
      "source": [
        "***Assignment Work***"
      ],
      "metadata": {
        "id": "bKvt2yZgpCn-"
      }
    },
    {
      "cell_type": "code",
      "execution_count": null,
      "metadata": {
        "colab": {
          "base_uri": "https://localhost:8080/"
        },
        "id": "oQa8Qprqo9no",
        "outputId": "53e51c65-0772-4782-9d33-97d028b02072"
      },
      "outputs": [
        {
          "output_type": "stream",
          "name": "stdout",
          "text": [
            "Srinivasa Reddy Madhira\n",
            "Playing Badminton\n",
            "2 hours\n"
          ]
        }
      ],
      "source": [
        "#Assignment #1\n",
        "#-------------\n",
        "print(\"Srinivasa Reddy Madhira\")\n",
        "print(\"Playing Badminton\")\n",
        "print(\"2 hours\")"
      ]
    },
    {
      "cell_type": "code",
      "source": [
        "#Assignment 2: Working with Variables\n",
        "#-----------------------------------\n",
        "name=\"Srini\"\n",
        "age=35\n",
        "fc=\"Blue\"\n",
        "print(\"My name is \",name,\"I am \",age,\"years old, \",\"and my favorite color is\",fc)"
      ],
      "metadata": {
        "colab": {
          "base_uri": "https://localhost:8080/"
        },
        "id": "r-Hw0b5hpR3Q",
        "outputId": "a88cf02d-198c-4f7f-cd2c-712db6f78048"
      },
      "execution_count": null,
      "outputs": [
        {
          "output_type": "stream",
          "name": "stdout",
          "text": [
            "My name is  Srini I am  35 years old,  and my favorite color is Blue\n"
          ]
        }
      ]
    },
    {
      "cell_type": "code",
      "source": [
        "# Assignment 3: Simple Input and Output\n",
        "#--------------------------------------\n",
        "fname=input(\"Enter your First Name :\")\n",
        "lname=input(\"Enter your Last Name :\")\n",
        "age=int(input(\"Enter your age :\"))\n",
        "\n",
        "print(\"Hello, \",fname,lname,\"! Next year, you will be\", age+1, \"years old.\")"
      ],
      "metadata": {
        "colab": {
          "base_uri": "https://localhost:8080/"
        },
        "id": "RDOWiKxcpXED",
        "outputId": "fec36bb7-21d0-4b96-aa22-86f6484a5c96"
      },
      "execution_count": null,
      "outputs": [
        {
          "output_type": "stream",
          "name": "stdout",
          "text": [
            "Enter your First Name :Madhira\n",
            "Enter your Last Name :Srinivasareddy\n",
            "Enter your age :35\n",
            "Hello,  Madhira Srinivasareddy ! Next year, you will be 36 years old.\n"
          ]
        }
      ]
    },
    {
      "cell_type": "code",
      "source": [
        "# Assignment 4: Basic Arithmetic\n",
        "#------------------------------\n",
        "num1=int(input(\"Enter a number : \"))\n",
        "num2=int(input(\"Enter second number\"))\n",
        "print(\"Add :\",num1+num2)\n",
        "print(\"Diff :\",num1-num2)\n",
        "print(\"Mul :\",num1*num2)\n",
        "print(\"Div :\",num1/num2)"
      ],
      "metadata": {
        "colab": {
          "base_uri": "https://localhost:8080/"
        },
        "id": "GwcV8Pbzpfbe",
        "outputId": "074ac652-9500-4308-e7ee-f453fb7ac97a"
      },
      "execution_count": null,
      "outputs": [
        {
          "output_type": "stream",
          "name": "stdout",
          "text": [
            "Enter a number : 5\n",
            "Enter second number10\n",
            "Add : 15\n",
            "Diff : -5\n",
            "Mul : 50\n",
            "Div : 0.5\n"
          ]
        }
      ]
    },
    {
      "cell_type": "code",
      "source": [
        "#Assignment 5: Combining Strings and Numbers\n",
        "#Enter your name: Alice\n",
        "#Enter your favorite number: 7\n",
        "#Hello, Alice! Did you know that 7 times 2 is 14?\n",
        "\n",
        "name=input(\"Enter your name :\")\n",
        "num=int(input(\"Enter your faviourit number\"))\n",
        "print(\"Hello, \",name,\"Did you know that\",num,\"times 2 is \",num*2,\"?\")"
      ],
      "metadata": {
        "colab": {
          "base_uri": "https://localhost:8080/"
        },
        "id": "m5pwWTCdpm2-",
        "outputId": "f49ea5c6-739a-470f-d66e-2a5f34fe4fd3"
      },
      "execution_count": null,
      "outputs": [
        {
          "output_type": "stream",
          "name": "stdout",
          "text": [
            "Enter your name :Srini\n",
            "Enter your faviourit number9\n",
            "Hello,  Srini Did you know that 9 times 2 is  18 ?\n"
          ]
        }
      ]
    },
    {
      "cell_type": "code",
      "source": [
        "#Assignement 6\n",
        "#Child\" if the age is less than 13 - Done\n",
        "#Teenager\" if the age is between 13 and 19\n",
        "#Adult\" if the age is between 20 and 64\n",
        "#Senior\" if the age is 65 or older\n",
        "\n",
        "age = int(input(\"Enter your Age :\"))\n",
        "if(age<13):\n",
        "  print(\"Your are a Child\")\n",
        "if(age>=13 and age<=19):\n",
        "    print(\"You are a Teenager\")\n",
        "if(age>19 and age<65):\n",
        "    print(\"You are a Adult\")\n",
        "else:\n",
        "  print(\"You are a Senior\")"
      ],
      "metadata": {
        "colab": {
          "base_uri": "https://localhost:8080/"
        },
        "id": "4sBFSeBGpvYY",
        "outputId": "bae1884d-59dc-4458-ca7e-3287ebb63552"
      },
      "execution_count": null,
      "outputs": [
        {
          "output_type": "stream",
          "name": "stdout",
          "text": [
            "Enter your Age :35\n",
            "You are a Adult\n"
          ]
        }
      ]
    },
    {
      "cell_type": "code",
      "source": [
        "#Assignment 7\n",
        "#Check if the first number is greater than the second number.\n",
        "#Check if the two numbers are equal.\n",
        "#Check if the first number is less than or equal to the second number.\n",
        "#Print appropriate messages based on the comparisons.\n",
        "\n",
        "n1=int(input(\"Enter a number\"))\n",
        "n2=int(input(\"Enter a number\"))\n",
        "if(n1>n2):\n",
        "  print(n1,\"is greater than \",n2)\n",
        "if(n1==n2):\n",
        "  print(\"Both\",n1,n2,\"are equal\")\n",
        "if(n1<n2):\n",
        "  print(n1,\"is less than\",n2)"
      ],
      "metadata": {
        "colab": {
          "base_uri": "https://localhost:8080/"
        },
        "id": "wJcbl-l6p3Wt",
        "outputId": "ff32f0e8-75b4-4639-cbfe-355ed80e4ac4"
      },
      "execution_count": null,
      "outputs": [
        {
          "output_type": "stream",
          "name": "stdout",
          "text": [
            "Enter a number5\n",
            "Enter a number10\n",
            "5 is less than 10\n"
          ]
        }
      ]
    },
    {
      "cell_type": "code",
      "source": [
        "#Assignment 8\n",
        "#Ask the user to input two numbers.\n",
        "#Ask the user to choose an operation (+, -, *, /).\n",
        "#Perform the operation on the two numbers and print the result.\n",
        "#Handle cases where the user might enter an invalid operation\n",
        "\n",
        "n1=int(input(\"Enter a number : \"))\n",
        "n2=int(input(\"Enter a number : \"))\n",
        "oper=input(\"Enter Operation : \")\n",
        "\n",
        "if(oper==\"+\"):\n",
        "  result = n1+n2\n",
        "  print(\"Result is\",result)\n",
        "elif(oper==\"-\"):\n",
        "  result = n1-n2\n",
        "  print(\"Result is\",result)\n",
        "elif(oper==\"*\"):\n",
        "  result = n1*n2\n",
        "  print(\"Result is\",result)\n",
        "elif(oper==\"/\"):\n",
        "  result = n1/n2\n",
        "  print(\"Result is\",result)\n",
        "else:\n",
        "  print(\"You have entered invalid Operation\")"
      ],
      "metadata": {
        "colab": {
          "base_uri": "https://localhost:8080/"
        },
        "id": "rfsgBw-dqBul",
        "outputId": "420be9b5-9ce0-43ac-b258-747a7c97e28e"
      },
      "execution_count": null,
      "outputs": [
        {
          "output_type": "stream",
          "name": "stdout",
          "text": [
            "Enter a number : 10\n",
            "Enter a number : 20\n",
            "Enter Operation : *\n",
            "Result is 200\n"
          ]
        }
      ]
    },
    {
      "cell_type": "code",
      "source": [
        "#Assignment 9: Sum of Even Numbers\n",
        "total = 0\n",
        "for num in range(1,11):\n",
        "  if(num%2==0):\n",
        "    total=total+num\n",
        "print(\"Sum of even numbers between 1 to 10 is\",total)"
      ],
      "metadata": {
        "colab": {
          "base_uri": "https://localhost:8080/"
        },
        "id": "jLsTxD0hqMsu",
        "outputId": "218d3d4a-4c7e-402f-bbc5-ede597d5a415"
      },
      "execution_count": null,
      "outputs": [
        {
          "output_type": "stream",
          "name": "stdout",
          "text": [
            "Sum of even numbers between 1 to 10 is 30\n"
          ]
        }
      ]
    },
    {
      "cell_type": "code",
      "source": [
        "#Assignment 1:\n",
        "\n",
        "#Create a list of your favorite fruits. Perform the following tasks:\n",
        "fruits = [\"Apple\",\"Banana\",\"Mango\",\"Orange\"]\n",
        "print(fruits)\n",
        "#Add a new fruit to the list.\n",
        "fruits.append(\"Grapes\")\n",
        "print(fruits)\n",
        "#Remove a fruit from the list.\n",
        "fruits.remove(\"Banana\")\n",
        "print(fruits)\n",
        "#Print the list in reverse order.\n",
        "fruits.reverse()\n",
        "print(fruits)\n",
        "#Slice the list to print the first three fruits.\n",
        "fruits = fruits[:3]\n",
        "print(fruits)"
      ],
      "metadata": {
        "id": "JWGCiOQYMU7r",
        "outputId": "af15c8cc-985a-4590-bb3d-3aaa611e06ca",
        "colab": {
          "base_uri": "https://localhost:8080/"
        }
      },
      "execution_count": 9,
      "outputs": [
        {
          "output_type": "stream",
          "name": "stdout",
          "text": [
            "['Apple', 'Banana', 'Mango', 'Orange']\n",
            "['Apple', 'Banana', 'Mango', 'Orange', 'Grapes']\n",
            "['Apple', 'Mango', 'Orange', 'Grapes']\n",
            "['Grapes', 'Orange', 'Mango', 'Apple']\n",
            "['Grapes', 'Orange', 'Mango']\n"
          ]
        }
      ]
    },
    {
      "cell_type": "code",
      "source": [
        "#Assignment 2:\n",
        "\n",
        "#Given the list [3, 5, 7, 9, 11, 13, 15], perform the following:\n",
        "num_list = [3,5,7,9,11,13,15]\n",
        "print(num_list)\n",
        "\n",
        "#Append 17 to the list.\n",
        "num_list.append(17)\n",
        "print(num_list)\n",
        "\n",
        "#Insert 1 at the beginning of the list.\n",
        "num_list.insert(0,1)\n",
        "print(num_list)\n",
        "\n",
        "#Remove the number 9 from the list.\n",
        "num_list.remove(9)\n",
        "print(num_list)\n",
        "#Find the index of the number 13.\n",
        "print(\"13 is at \",num_list.index(13),\"index position in given list\")"
      ],
      "metadata": {
        "id": "fi2m_oraOkZf",
        "outputId": "7e93c8f5-609c-4ea8-8543-33ae5a8b5031",
        "colab": {
          "base_uri": "https://localhost:8080/"
        }
      },
      "execution_count": 19,
      "outputs": [
        {
          "output_type": "stream",
          "name": "stdout",
          "text": [
            "[3, 5, 7, 9, 11, 13, 15]\n",
            "[3, 5, 7, 9, 11, 13, 15, 17]\n",
            "[1, 3, 5, 7, 9, 11, 13, 15, 17]\n",
            "[1, 3, 5, 7, 11, 13, 15, 17]\n",
            "13 is at  5 index position in given list\n"
          ]
        }
      ]
    },
    {
      "cell_type": "code",
      "source": [
        "# 2. Sets\n",
        "#Assignment 1:\n",
        "#Create a set of numbers from 1 to 5. Perform the following operations:\n",
        "num_set = {1,2,3,4,5}\n",
        "print(num_set)\n",
        "\n",
        "#Add the number 6 to the set.\n",
        "num_set.add(6)\n",
        "print(num_set)\n",
        "\n",
        "#Remove the number 2 from the set.\n",
        "num_set.remove(2)\n",
        "print(num_set)\n",
        "\n",
        "#Check if the number 3 is in the set.\n",
        "if(3 in num_set):\n",
        "  print(\"3 is found in num_set\")\n",
        "else:\n",
        "  print(\"3 is not found in num_set\")\n",
        "#Find the union of this set with another set {4, 5, 6, 7}.\n",
        "num_set1 = {4,5,6,7}\n",
        "print(num_set.union(num_set1))\n"
      ],
      "metadata": {
        "id": "_Wf5I52NQEg9",
        "outputId": "39be9548-e106-4ae5-da76-451194919444",
        "colab": {
          "base_uri": "https://localhost:8080/"
        }
      },
      "execution_count": 25,
      "outputs": [
        {
          "output_type": "stream",
          "name": "stdout",
          "text": [
            "{1, 2, 3, 4, 5}\n",
            "{1, 2, 3, 4, 5, 6}\n",
            "{1, 3, 4, 5, 6}\n",
            "3 is found in num_set\n",
            "{1, 3, 4, 5, 6, 7}\n"
          ]
        }
      ]
    },
    {
      "cell_type": "code",
      "source": [
        "#Assignment 2:\n",
        "\n",
        "#Given two sets {1, 2, 3, 4, 5} and {4, 5, 6, 7, 8}, find:\n",
        "set1 = {1,2,3,4,5}\n",
        "set2 = {4,5,6,7,8}\n",
        "print(set1,set2)\n",
        "\n",
        "#The union of the two sets.\n",
        "print(set1.union(set2))\n",
        "\n",
        "#The intersection of the two sets.\n",
        "print(set1.intersection(set2))\n",
        "\n",
        "#The difference between the first set and the second set.\n",
        "print(set1.difference(set2))\n",
        "\n",
        "#The symmetric difference between the two sets.\n",
        "print(set1.symmetric_difference(set2))"
      ],
      "metadata": {
        "id": "EfkZxkUlRQdU",
        "outputId": "bbf14c2f-0772-40b4-dfc9-324113b3db4a",
        "colab": {
          "base_uri": "https://localhost:8080/"
        }
      },
      "execution_count": 30,
      "outputs": [
        {
          "output_type": "stream",
          "name": "stdout",
          "text": [
            "{1, 2, 3, 4, 5} {4, 5, 6, 7, 8}\n",
            "{1, 2, 3, 4, 5, 6, 7, 8}\n",
            "{4, 5}\n",
            "{1, 2, 3}\n",
            "{1, 2, 3, 6, 7, 8}\n"
          ]
        }
      ]
    },
    {
      "cell_type": "code",
      "source": [
        "#3. Dictionaries\n",
        "#Assignment 1:\n",
        "#Create a dictionary that stores the following information about a book:\n",
        "#Title: \"To Kill a Mockingbird\"\n",
        "#Author: \"Harper Lee\"\n",
        "#Year Published: 1960\n",
        "#Genre: \"Fiction\"\n",
        "dict1 = {\n",
        "    \"Title\" : \"To Kill a Mockingbird\",\n",
        "    \"Author\" : \"Harper Lee\",\n",
        "    \"Year Published\" : 1960,\n",
        "    \"Genre\" : \"Fiction\"\n",
        "}\n",
        "print(dict1)\n",
        "\n",
        "#Perform the following:\n",
        "\n",
        "#Add a key Pages with the value 281.\n",
        "dict1[\"Pages\"] = 281\n",
        "print(dict1)\n",
        "\n",
        "#Update the Year Published to 1961.\n",
        "dict1[\"Year Published\"] = 1961\n",
        "print(dict1)\n",
        "\n",
        "#Remove the Genre key from the dictionary.\n",
        "dict1.pop(\"Genre\")\n",
        "print(dict1)\n",
        "\n",
        "#Retrieve the value associated with the key Author.\n",
        "print(dict1[\"Author\"])"
      ],
      "metadata": {
        "id": "7gbh_OgdR1hj",
        "outputId": "e8513a33-5ab4-431c-bf34-30ed929a6776",
        "colab": {
          "base_uri": "https://localhost:8080/"
        }
      },
      "execution_count": 42,
      "outputs": [
        {
          "output_type": "stream",
          "name": "stdout",
          "text": [
            "{'Title': 'To Kill a Mockingbird', 'Author': 'Harper Lee', 'Year Published': 1960, 'Genre': 'Fiction'}\n",
            "{'Title': 'To Kill a Mockingbird', 'Author': 'Harper Lee', 'Year Published': 1960, 'Genre': 'Fiction', 'Pages': 281}\n",
            "{'Title': 'To Kill a Mockingbird', 'Author': 'Harper Lee', 'Year Published': 1961, 'Genre': 'Fiction', 'Pages': 281}\n",
            "{'Title': 'To Kill a Mockingbird', 'Author': 'Harper Lee', 'Year Published': 1961, 'Pages': 281}\n",
            "Harper Lee\n"
          ]
        }
      ]
    },
    {
      "cell_type": "code",
      "source": [
        "#Assignment 2:\n",
        "#Given the dictionary student = {\"name\": \"Alice\", \"age\": 22, \"courses\": [\"Math\", \"Science\"]}, perform the following:\n",
        "student = {\n",
        "    \"name\" : \"Alice\",\n",
        "    \"age\" : 22,\n",
        "    \"course\" : [\"Maths\",\"Science\"]\n",
        "}\n",
        "print(student)\n",
        "\n",
        "#Add a new key graduated with the value False.\n",
        "student[\"Grad\"]=\"False\"\n",
        "print(student)\n",
        "\n",
        "#Change the age to 23.\n",
        "student[\"age\"]=\"23\"\n",
        "print(student)\n",
        "\n",
        "#Add \"English\" to the list of courses.\n",
        "student[\"course\"].append(\"English\")\n",
        "print(student)\n",
        "\n",
        "#Use the get() method to retrieve the value of name and a non-existent key grade with a default value \"N/A\".\n",
        "print(student.get(\"name\"))\n",
        "print(student.get(\"Grad1\",\"N/A\"))\n"
      ],
      "metadata": {
        "id": "XS06ywmkUWau",
        "outputId": "ccad95b9-0480-4dba-e7f2-cf460bd6e4ca",
        "colab": {
          "base_uri": "https://localhost:8080/"
        }
      },
      "execution_count": 53,
      "outputs": [
        {
          "output_type": "stream",
          "name": "stdout",
          "text": [
            "{'name': 'Alice', 'age': 22, 'course': ['Maths', 'Science']}\n",
            "{'name': 'Alice', 'age': 22, 'course': ['Maths', 'Science'], 'Grad': 'False'}\n",
            "{'name': 'Alice', 'age': '23', 'course': ['Maths', 'Science'], 'Grad': 'False'}\n",
            "{'name': 'Alice', 'age': '23', 'course': ['Maths', 'Science', 'English'], 'Grad': 'False'}\n",
            "Alice\n",
            "N/A\n"
          ]
        }
      ]
    }
  ]
}