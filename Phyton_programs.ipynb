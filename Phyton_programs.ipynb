{
  "nbformat": 4,
  "nbformat_minor": 0,
  "metadata": {
    "colab": {
      "provenance": [],
      "authorship_tag": "ABX9TyMh1XdsEgJBJd0PpS4uQLt4",
      "include_colab_link": true
    },
    "kernelspec": {
      "name": "python3",
      "display_name": "Python 3"
    },
    "language_info": {
      "name": "python"
    }
  },
  "cells": [
    {
      "cell_type": "markdown",
      "metadata": {
        "id": "view-in-github",
        "colab_type": "text"
      },
      "source": [
        "<a href=\"https://colab.research.google.com/github/MadhiraSrinivas/Phyton/blob/main/Phyton_programs.ipynb\" target=\"_parent\"><img src=\"https://colab.research.google.com/assets/colab-badge.svg\" alt=\"Open In Colab\"/></a>"
      ]
    },
    {
      "cell_type": "markdown",
      "source": [
        "**This is a Text box to write a comments or notes**"
      ],
      "metadata": {
        "id": "EjZfovyyjB6y"
      }
    },
    {
      "cell_type": "code",
      "execution_count": null,
      "metadata": {
        "colab": {
          "base_uri": "https://localhost:8080/"
        },
        "id": "MKN1Mu1e74pC",
        "outputId": "38a3e8a3-281d-4dd9-b24c-b77f1b9ee5fe"
      },
      "outputs": [
        {
          "output_type": "stream",
          "name": "stdout",
          "text": [
            "Hi Srini !!\n"
          ]
        }
      ],
      "source": [
        "# My First \"Hi\" Phyton Program\n",
        "# -----------------------------\n",
        "\n",
        "print(\"Hi Srini !!\")"
      ]
    },
    {
      "cell_type": "code",
      "source": [
        "# Print Multiple Strings\n",
        "# ----------------------\n",
        "\n",
        "print(\"Hi\", \"Srini\", \"!!\" )"
      ],
      "metadata": {
        "colab": {
          "base_uri": "https://localhost:8080/"
        },
        "id": "zG4OljzUjopK",
        "outputId": "16ece4ff-8a71-4fe9-907c-f6c1731d8be4"
      },
      "execution_count": null,
      "outputs": [
        {
          "output_type": "stream",
          "name": "stdout",
          "text": [
            "Hi Srini !!\n"
          ]
        }
      ]
    },
    {
      "cell_type": "code",
      "source": [
        "# Creating a variable & Value\n",
        "# ---------------------------\n",
        "\n",
        "a=5\n",
        "print(a)"
      ],
      "metadata": {
        "colab": {
          "base_uri": "https://localhost:8080/"
        },
        "id": "y_H6JtwwkLhh",
        "outputId": "095bc043-0069-4daf-df70-11cb28ff093c"
      },
      "execution_count": null,
      "outputs": [
        {
          "output_type": "stream",
          "name": "stdout",
          "text": [
            "5\n"
          ]
        }
      ]
    },
    {
      "cell_type": "code",
      "source": [
        "# Creating a String Variable & Value\n",
        "# ----------------------------------\n",
        "\n",
        "name=\"Srini\"\n",
        "print(name)\n",
        "print(\"Hi \",name,\", Welcome to Phyton\")"
      ],
      "metadata": {
        "colab": {
          "base_uri": "https://localhost:8080/"
        },
        "id": "Mm4ZRCXLka6h",
        "outputId": "cb27c181-a7a2-42d7-c039-220370119213"
      },
      "execution_count": null,
      "outputs": [
        {
          "output_type": "stream",
          "name": "stdout",
          "text": [
            "Srini\n",
            "Hi  Srini , Welcome to Phyton\n"
          ]
        }
      ]
    },
    {
      "cell_type": "code",
      "source": [
        "# Multiple Values\n",
        "# ---------------\n",
        "\n",
        "name=\"Srini\"\n",
        "age=\"35\"\n",
        "place=\"Narasaraopet\"\n",
        "print(\"\\n\",name,\"\\n\",age,\"\\n\",place)"
      ],
      "metadata": {
        "colab": {
          "base_uri": "https://localhost:8080/"
        },
        "id": "0cpI-FbVkuWs",
        "outputId": "14977444-8616-4dd2-f2a6-df71a81c8dc7"
      },
      "execution_count": null,
      "outputs": [
        {
          "output_type": "stream",
          "name": "stdout",
          "text": [
            "\n",
            " Srini \n",
            " 35 \n",
            " Narasaraopet\n"
          ]
        }
      ]
    },
    {
      "cell_type": "code",
      "source": [
        "# Arthematic operations\n",
        "# ---------------------\n",
        "num1=29\n",
        "num2=7\n",
        "print(\"Add :\",num1+num2,\"\\n\")\n",
        "print(\"Sub :\",num1-num2,\"\\n\")\n",
        "print(\"Div :\",num1/num2,\"\\n\")\n",
        "print(\"Mult :\",num1*num2,\"\\n\")"
      ],
      "metadata": {
        "colab": {
          "base_uri": "https://localhost:8080/"
        },
        "id": "WDFDzDbBlbzO",
        "outputId": "ceb2f211-6c51-41cf-9494-93f9bc756643"
      },
      "execution_count": null,
      "outputs": [
        {
          "output_type": "stream",
          "name": "stdout",
          "text": [
            "Add : 36 \n",
            "\n",
            "Sub : 22 \n",
            "\n",
            "Div : 4.142857142857143 \n",
            "\n",
            "Mult : 203 \n",
            "\n"
          ]
        }
      ]
    },
    {
      "cell_type": "code",
      "source": [
        "# Get the Datatypes\n",
        "# -----------------\n",
        "\n",
        "name=\"Srini\"\n",
        "age=35\n",
        "decimal=24.02147\n",
        "print(type(name))\n",
        "print(type(age))\n",
        "print(type(decimal))"
      ],
      "metadata": {
        "colab": {
          "base_uri": "https://localhost:8080/"
        },
        "id": "4KEd8x54mlz2",
        "outputId": "4bfd9793-15dc-4e94-e323-ff2a04fcd34d"
      },
      "execution_count": null,
      "outputs": [
        {
          "output_type": "stream",
          "name": "stdout",
          "text": [
            "<class 'str'>\n",
            "<class 'int'>\n",
            "<class 'float'>\n"
          ]
        }
      ]
    },
    {
      "cell_type": "code",
      "source": [
        "# Type Convertions\n",
        "# ----------------\n",
        "\n",
        "name=\"Srini\"\n",
        "age=35\n",
        "print(\"\\n\",name,\"\\n\",age)\n",
        "\n",
        "#After type convertion\n",
        "#name_int=int(name) -- Not working\n",
        "str_age=str(age)\n",
        "print(str_age,type(str_age))\n",
        "num_name=int(\"10\")\n",
        "print(num_name, type(num_name))"
      ],
      "metadata": {
        "colab": {
          "base_uri": "https://localhost:8080/"
        },
        "id": "0kEeRx8UF1D0",
        "outputId": "c546748f-92f9-4c89-fcb7-abb202751077"
      },
      "execution_count": null,
      "outputs": [
        {
          "output_type": "stream",
          "name": "stdout",
          "text": [
            "\n",
            " Srini \n",
            " 35\n",
            "35 <class 'str'>\n",
            "10 <class 'int'>\n"
          ]
        }
      ]
    },
    {
      "cell_type": "code",
      "source": [
        "#Taking input from user\n",
        "#---------------------\n",
        "\n",
        "name=input(\"Enter your name : \")\n",
        "print(\"Hi \",name, \"!!\")"
      ],
      "metadata": {
        "colab": {
          "base_uri": "https://localhost:8080/"
        },
        "id": "ovqWQgFNJcCu",
        "outputId": "e48641c6-73ad-40ea-fe58-942a76cda477"
      },
      "execution_count": null,
      "outputs": [
        {
          "output_type": "stream",
          "name": "stdout",
          "text": [
            "Enter your name : Srini\n",
            "Hi  Srini !!\n"
          ]
        }
      ]
    },
    {
      "cell_type": "code",
      "source": [
        "#Arthematic Operations through input statement\n",
        "#---------------------------------------------\n",
        "num1 = int(input(\"Enter a number : \"))\n",
        "num2 = int(input(\"Enter another number\"))\n",
        "print(\"Add :\", num1+num2)\n",
        "print(\"Sub :\", num1-num2)\n",
        "print(\"Div :\", num1/num2)\n",
        "print(\"Mult :\",num1*num2)\n",
        "\n"
      ],
      "metadata": {
        "colab": {
          "base_uri": "https://localhost:8080/"
        },
        "id": "Fz5JVN_RKDPt",
        "outputId": "20b791d0-7ce2-4e32-9a00-4eb47ba4aefa"
      },
      "execution_count": null,
      "outputs": [
        {
          "output_type": "stream",
          "name": "stdout",
          "text": [
            "Enter a number : 5\n",
            "Enter another number5\n",
            "Add : 10\n",
            "Sub : 0\n",
            "Div : 1.0\n",
            "Mult : 25\n"
          ]
        }
      ]
    },
    {
      "cell_type": "code",
      "source": [
        "#Trying LIST\n",
        "#Create a List (name)& (numbers)and print\n",
        "\n",
        "emp_list=['Srini','Ravi','Bhaskar','Guna']\n",
        "yrs_of_exp=[8,13,9,7]\n",
        "sal=[10,15,12,10]\n",
        "#print(name_list)\n",
        "print(emp_list)\n",
        "print(yrs_of_exp)\n",
        "print(sal)\n",
        "\n",
        "#Slicing list\n",
        "#------------\n",
        "#print(name_list[2:])\n",
        "#print(age_list[3:])\n",
        "\n",
        "#Modifing List\n",
        "#emp_list[0]=\"Bujji\"\n",
        "#print(emp_list)\n",
        "\n",
        "# Adding an item\n",
        "#---------------\n",
        "emp_list.append(\"Prashant\")\n",
        "yrs_of_exp.append(10)\n",
        "sal.append(13.5)\n",
        "print(\"=================\",\"\\n\",emp_list,\"\\n\",yrs_of_exp,\"\\n\",sal)\n",
        "\n",
        "#insert test\n",
        "#-----------\n",
        "emp_list.insert(2,\"Ondrilla\")\n",
        "yrs_of_exp.insert(3,\"25\")\n",
        "sal.insert(5, \"115\")\n",
        "print(\"*******************\",\"\\n\",emp_list,\"\\n\",yrs_of_exp,\"\\n\",sal)\n",
        "\n",
        "#pop()\n",
        "\n",
        "#Temp\n",
        "print(emp_list)\n",
        "emp_list.pop(2)\n",
        "yrs_of_exp.pop(3)\n",
        "sal.pop(5)\n",
        "print(\"=================\",\"\\n\",emp_list,\"\\n\",yrs_of_exp,\"\\n\",sal)\n",
        "\n",
        "#emp_list.index(\"Srini\")\n",
        "#sal.sort()\n",
        "#print(sal)\n",
        "#emp_list.reverse()\n",
        "#print(emp_list)"
      ],
      "metadata": {
        "colab": {
          "base_uri": "https://localhost:8080/"
        },
        "id": "xRS1p2UanJtY",
        "outputId": "81e43074-0767-4e8e-9507-b67406d98fe0"
      },
      "execution_count": 10,
      "outputs": [
        {
          "output_type": "stream",
          "name": "stdout",
          "text": [
            "['Srini', 'Ravi', 'Bhaskar', 'Guna']\n",
            "[8, 13, 9, 7]\n",
            "[10, 15, 12, 10]\n",
            "================= \n",
            " ['Srini', 'Ravi', 'Bhaskar', 'Guna', 'Prashant'] \n",
            " [8, 13, 9, 7, 10] \n",
            " [10, 15, 12, 10, 13.5]\n",
            "******************* \n",
            " ['Srini', 'Ravi', 'Ondrilla', 'Bhaskar', 'Guna', 'Prashant'] \n",
            " [8, 13, 9, '25', 7, 10] \n",
            " [10, 15, 12, 10, 13.5, '115']\n",
            "['Srini', 'Ravi', 'Ondrilla', 'Bhaskar', 'Guna', 'Prashant']\n",
            "================= \n",
            " ['Srini', 'Ravi', 'Bhaskar', 'Guna', 'Prashant'] \n",
            " [8, 13, 9, 7, 10] \n",
            " [10, 15, 12, 10, 13.5]\n"
          ]
        }
      ]
    },
    {
      "cell_type": "code",
      "source": [
        "#List to set convertion\n",
        "#---------------------\n",
        "number=[1,1,2,3,4,5,6,7,8,8,9,5,7,1]\n",
        "num_set=set(number)\n",
        "print(num_set)"
      ],
      "metadata": {
        "colab": {
          "base_uri": "https://localhost:8080/"
        },
        "id": "S_GMmkFRg7ye",
        "outputId": "3b48b814-2504-458e-c8c5-6dca5e214784"
      },
      "execution_count": 9,
      "outputs": [
        {
          "output_type": "stream",
          "name": "stdout",
          "text": [
            "{1, 2, 3, 4, 5, 6, 7, 8, 9}\n"
          ]
        }
      ]
    },
    {
      "cell_type": "code",
      "source": [
        "#For Loop\n",
        "#--------\n",
        "emp_list=['Srini','Ravi','Bhaskar','Guna','Sudheer','Prashant']\n",
        "yrs_of_exp=[8,13,9,7,13,10]\n",
        "sal=[10,15,12,10,15,13.5]\n",
        "for emp in emp_list:\n",
        "    print(emp)\n",
        "for exp in yrs_of_exp:\n",
        "    print(exp)\n",
        "for salary in sal:\n",
        "    print(salary)"
      ],
      "metadata": {
        "colab": {
          "base_uri": "https://localhost:8080/"
        },
        "id": "_F_WrZ2GnZeJ",
        "outputId": "533d05fb-5518-450e-9c86-757ad1f00ca8"
      },
      "execution_count": 15,
      "outputs": [
        {
          "output_type": "stream",
          "name": "stdout",
          "text": [
            "Srini\n",
            "Ravi\n",
            "Bhaskar\n",
            "Guna\n",
            "Sudheer\n",
            "Prashant\n",
            "8\n",
            "13\n",
            "9\n",
            "7\n",
            "13\n",
            "10\n",
            "10\n",
            "15\n",
            "12\n",
            "10\n",
            "15\n",
            "13.5\n"
          ]
        }
      ]
    },
    {
      "cell_type": "code",
      "source": [
        "# FOR IN range\n",
        "for num in range(1,10):\n",
        "    print(\"In Foor Loop\")\n",
        "print(\"Out from Fro Loop\")\n",
        "# while In range\n",
        "num=0\n",
        "while num<10:\n",
        "    print(num)\n",
        "    num+=1\n",
        "print(\"Number is grater than 10\")"
      ],
      "metadata": {
        "colab": {
          "base_uri": "https://localhost:8080/"
        },
        "id": "FhT_jWK5rfSs",
        "outputId": "9c316250-cffe-4e75-f2cf-f100b001c25b"
      },
      "execution_count": 25,
      "outputs": [
        {
          "output_type": "stream",
          "name": "stdout",
          "text": [
            "In Foor Loop\n",
            "In Foor Loop\n",
            "In Foor Loop\n",
            "In Foor Loop\n",
            "In Foor Loop\n",
            "In Foor Loop\n",
            "In Foor Loop\n",
            "In Foor Loop\n",
            "In Foor Loop\n",
            "Out from Fro Loop\n",
            "0\n",
            "1\n",
            "2\n",
            "3\n",
            "4\n",
            "5\n",
            "6\n",
            "7\n",
            "8\n",
            "9\n",
            "Entered number is grater than 10\n"
          ]
        }
      ]
    },
    {
      "cell_type": "code",
      "source": [
        "#Iterate in loop on User given range\n",
        "num1=int(input(\"Enter a number : \"))\n",
        "num2=int(input(\"Enter another number : \"))\n",
        "for num3 in range(num1,num2):\n",
        "    print(num3,\"In For loop\")\n",
        "    if(num3==10):\n",
        "      print(\"Your program will break if found 10 in the sequence\")\n",
        "      break\n",
        "print(\"out of loop\")"
      ],
      "metadata": {
        "colab": {
          "base_uri": "https://localhost:8080/"
        },
        "id": "qVQPBkqQtp-r",
        "outputId": "e60a3d00-4f49-4129-ad80-04c0b80875ba"
      },
      "execution_count": 39,
      "outputs": [
        {
          "output_type": "stream",
          "name": "stdout",
          "text": [
            "Enter a number : 8\n",
            "Enter another number : 12\n",
            "8 In For loop\n",
            "9 In For loop\n",
            "10 In For loop\n",
            "Your program will break if found 10 in the sequence\n",
            "out of loop\n"
          ]
        }
      ]
    },
    {
      "cell_type": "code",
      "source": [
        "#Set\n",
        "\n",
        "emp_set={'Srini','Ravi','Bhaskar','Guna','Sudheer','Prashant'}\n",
        "rotta=[\"Arun\",\"Rahul\",\"Ondrilla\"]\n",
        "emp_set.update(rotta)\n",
        "for item in rotta:\n",
        "  emp_set.remove(item)\n",
        "print(emp_set)\n"
      ],
      "metadata": {
        "colab": {
          "base_uri": "https://localhost:8080/"
        },
        "id": "VCCnaTiBD_mu",
        "outputId": "be6ab16d-c172-4424-8a4b-c2a91853aa31"
      },
      "execution_count": 53,
      "outputs": [
        {
          "output_type": "stream",
          "name": "stdout",
          "text": [
            "{'Bhaskar', 'Ravi', 'Guna', 'Prashant', 'Sudheer', 'Srini'}\n"
          ]
        }
      ]
    },
    {
      "cell_type": "code",
      "source": [
        "#Union in set\n",
        "#------------\n",
        "cw_set = {'Srini','Ravi','Guna'}\n",
        "fte_set = {'Bhaskar','Prashant','Sudheer'}\n",
        "print(cw_set)\n",
        "print(fte_set)\n",
        "tiaa_set = fte_set.union(cw_set)\n",
        "print(tiaa_set)"
      ],
      "metadata": {
        "colab": {
          "base_uri": "https://localhost:8080/"
        },
        "id": "f9NXAJnNGqOl",
        "outputId": "fe845228-f4e7-4443-a7db-f25a04493938"
      },
      "execution_count": 56,
      "outputs": [
        {
          "output_type": "stream",
          "name": "stdout",
          "text": [
            "{'Guna', 'Ravi', 'Srini'}\n",
            "{'Prashant', 'Bhaskar', 'Sudheer'}\n",
            "{'Prashant', 'Bhaskar', 'Guna', 'Ravi', 'Srini', 'Sudheer'}\n"
          ]
        }
      ]
    },
    {
      "cell_type": "code",
      "source": [
        "# add\n",
        "#----\n",
        "names=set()\n",
        "item=0\n",
        "for item in range(6):\n",
        "  input_name=input(\"Enter a name : \")\n",
        "  names.add(input_name)\n",
        "  item+=1\n",
        "#print(names)\n",
        "#names={''}\n",
        "#names.add('Srini')\n",
        "print(names)\n",
        "names.update(['Kiran'])\n",
        "print(\"After update fun :\",names)\n",
        "print(type(names))"
      ],
      "metadata": {
        "colab": {
          "base_uri": "https://localhost:8080/"
        },
        "id": "rHxCurWRsLGP",
        "outputId": "52fd5b4f-6799-493d-c907-12f6f9146487"
      },
      "execution_count": 28,
      "outputs": [
        {
          "output_type": "stream",
          "name": "stdout",
          "text": [
            "Enter a name : Srini\n",
            "Enter a name : Ravi\n",
            "Enter a name : Bhaskar\n",
            "Enter a name : Guna\n",
            "Enter a name : Prashant\n",
            "Enter a name : Sudheer\n",
            "{'Guna', 'Sudheer', 'Srini', 'Bhaskar', 'Prashant', 'Ravi'}\n",
            "After update fun : {'Guna', 'Sudheer', 'Srini', 'Kiran', 'Bhaskar', 'Prashant', 'Ravi'}\n",
            "<class 'set'>\n"
          ]
        }
      ]
    },
    {
      "cell_type": "code",
      "source": [
        "all={'Srini','Ravi','Bhaskar','Guna','Sudheer','Prashant'}\n",
        "fte={'Bhaskar','Prashant','Sudheer'}\n",
        "cw=all.difference(fte)\n",
        "print(cw)\n",
        "#"
      ],
      "metadata": {
        "colab": {
          "base_uri": "https://localhost:8080/"
        },
        "id": "JcmLzpr92Nzc",
        "outputId": "a4ae6b1c-846e-4196-dc1a-1743995bb582"
      },
      "execution_count": 34,
      "outputs": [
        {
          "output_type": "stream",
          "name": "stdout",
          "text": [
            "{'Guna', 'Ravi', 'Srini'}\n"
          ]
        }
      ]
    },
    {
      "cell_type": "code",
      "source": [
        "#need to iterate the for loop, but not to specific numbers\n",
        "#if i find empty enter then store the before names to set\n",
        "#ex : for item in range' '\n",
        "      #if(item== )\n",
        "      #    break\n",
        "#"
      ],
      "metadata": {
        "id": "bQd8TnqV4zzj"
      },
      "execution_count": null,
      "outputs": []
    },
    {
      "cell_type": "code",
      "source": [
        "# dictionary\n",
        "emp1={\n",
        "    \"name\" :'Srini',\n",
        "    \"age\" : 33,\n",
        "    \"place\" : 'Narasaraopet',\n",
        "    #\"salary\" :1000000\n",
        "}\n",
        "emp2={\n",
        "    \"name\" :'Ravi',\n",
        "    \"age\" : 38,\n",
        "    \"place\" : 'Guntur'\n",
        "}\n",
        "emp3={\n",
        "    \"name\" :'Bhaskar',\n",
        "    \"age\" : 35,\n",
        "    \"place\" : 'Nellor'\n",
        "}\n",
        "\n",
        "emp1[\"age\"]=34\n",
        "emp1[\"name\"]=\"Bujji\"\n",
        "print(emp1.get(\"name\",\"No name\"),\",\",emp1.get(\"place\",\"No place\"),\",\",emp1.get(\"age\",\"No age\"))\n",
        "print(emp2.get(\"name\",\"No name\"),\",\",emp2.get(\"place\",\"No Place\"),\",\",emp2.get(\"age\",\"No age\"))\n",
        "print(emp3.get(\"name\",\"No name\"),\",\",emp3.get(\"place\",\"No place\"),\",\",emp3.get(\"age\",\"No age\"))\n",
        "\n",
        "if \"salary\" in emp1:\n",
        "  print(\"Salary is present\")\n",
        "else:\n",
        "  print(\"Salary is not present\")\n",
        "\n",
        "if \"name\" in emp1:\n",
        "  print(\"Name is present\")\n",
        "else:\n",
        "  print(\"Name is not present\")\n",
        "\n",
        "emp1[\"email\"]=\"sri@gmail.com\"\n",
        "print(emp1)\n",
        "emp2[\"salary\"]=2000000\n",
        "print(emp2)\n",
        "emp3[\"contact\"]=9785497854\n",
        "print(emp3)\n",
        "\n",
        "# difference\n",
        "diff=set(emp2).difference (emp1)\n",
        "print(diff)\n",
        "\n",
        "#popitem\n",
        "\n",
        "#data1 = emp1.popitem()\n",
        "#print(data1)\n",
        "#data1 = emp2.pop(\"salary\")\n",
        "#print(data1)\n",
        "#data1 = emp3.popitem()\n",
        "#print(data1)\n",
        "\n",
        "#print(emp1)\n",
        "#print(emp2)\n",
        "#print(emp3)\n",
        "\n",
        "#fromkey()\n",
        "emp4_key = ['name','age','place']\n",
        "emp4_value = \"unknown\"\n",
        "emp4 = dict.fromkeys(emp4_key,emp4_value)\n",
        "print(emp4)\n"
      ],
      "metadata": {
        "colab": {
          "base_uri": "https://localhost:8080/"
        },
        "id": "UVpb8bIeFIra",
        "outputId": "f5ac0771-4009-447d-ed00-ebb8cd72e20f"
      },
      "execution_count": 7,
      "outputs": [
        {
          "output_type": "stream",
          "name": "stdout",
          "text": [
            "Bujji , Narasaraopet , 34\n",
            "Ravi , Guntur , 38\n",
            "Bhaskar , Nellor , 35\n",
            "Salary is not present\n",
            "Name is present\n",
            "{'name': 'Bujji', 'age': 34, 'place': 'Narasaraopet', 'email': 'sri@gmail.com'}\n",
            "{'name': 'Ravi', 'age': 38, 'place': 'Guntur', 'salary': 2000000}\n",
            "{'name': 'Bhaskar', 'age': 35, 'place': 'Nellor', 'contact': 9785497854}\n",
            "{'salary'}\n",
            "{'name': 'unknown', 'age': 'unknown', 'place': 'unknown'}\n"
          ]
        }
      ]
    },
    {
      "cell_type": "code",
      "source": [],
      "metadata": {
        "id": "Sfnz-psiPtOz"
      },
      "execution_count": null,
      "outputs": []
    }
  ]
}