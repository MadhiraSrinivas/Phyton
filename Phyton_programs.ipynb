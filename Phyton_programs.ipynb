{
  "nbformat": 4,
  "nbformat_minor": 0,
  "metadata": {
    "colab": {
      "provenance": [],
      "authorship_tag": "ABX9TyPVM81FoJiKqM3XKtoLEfRp",
      "include_colab_link": true
    },
    "kernelspec": {
      "name": "python3",
      "display_name": "Python 3"
    },
    "language_info": {
      "name": "python"
    }
  },
  "cells": [
    {
      "cell_type": "markdown",
      "metadata": {
        "id": "view-in-github",
        "colab_type": "text"
      },
      "source": [
        "<a href=\"https://colab.research.google.com/github/MadhiraSrinivas/Phyton/blob/main/Phyton_programs.ipynb\" target=\"_parent\"><img src=\"https://colab.research.google.com/assets/colab-badge.svg\" alt=\"Open In Colab\"/></a>"
      ]
    },
    {
      "cell_type": "markdown",
      "source": [
        "**This is a Text box to write a comments or notes**"
      ],
      "metadata": {
        "id": "EjZfovyyjB6y"
      }
    },
    {
      "cell_type": "code",
      "execution_count": 1,
      "metadata": {
        "colab": {
          "base_uri": "https://localhost:8080/"
        },
        "id": "MKN1Mu1e74pC",
        "outputId": "38a3e8a3-281d-4dd9-b24c-b77f1b9ee5fe"
      },
      "outputs": [
        {
          "output_type": "stream",
          "name": "stdout",
          "text": [
            "Hi Srini !!\n"
          ]
        }
      ],
      "source": [
        "# My First \"Hi\" Phyton Program\n",
        "print(\"Hi Srini !!\")"
      ]
    },
    {
      "cell_type": "code",
      "source": [
        "# Print Multiple Strings\n",
        "print(\"Hi\", \"Srini\", \"!!\" )"
      ],
      "metadata": {
        "colab": {
          "base_uri": "https://localhost:8080/"
        },
        "id": "zG4OljzUjopK",
        "outputId": "16ece4ff-8a71-4fe9-907c-f6c1731d8be4"
      },
      "execution_count": 2,
      "outputs": [
        {
          "output_type": "stream",
          "name": "stdout",
          "text": [
            "Hi Srini !!\n"
          ]
        }
      ]
    },
    {
      "cell_type": "code",
      "source": [
        "# Creating a variable & Value\n",
        "a=5\n",
        "print(a)"
      ],
      "metadata": {
        "colab": {
          "base_uri": "https://localhost:8080/"
        },
        "id": "y_H6JtwwkLhh",
        "outputId": "095bc043-0069-4daf-df70-11cb28ff093c"
      },
      "execution_count": 3,
      "outputs": [
        {
          "output_type": "stream",
          "name": "stdout",
          "text": [
            "5\n"
          ]
        }
      ]
    },
    {
      "cell_type": "code",
      "source": [
        "# Creating a String Variable & Value\n",
        "name=\"Srini\"\n",
        "print(name)"
      ],
      "metadata": {
        "colab": {
          "base_uri": "https://localhost:8080/"
        },
        "id": "Mm4ZRCXLka6h",
        "outputId": "3f4e4631-7f77-4b4a-b6df-e6e89ad3b6a4"
      },
      "execution_count": 4,
      "outputs": [
        {
          "output_type": "stream",
          "name": "stdout",
          "text": [
            "Srini\n"
          ]
        }
      ]
    },
    {
      "cell_type": "code",
      "source": [
        "# Multiple Values\n",
        "name=\"Srini\"\n",
        "age=\"35\"\n",
        "place=\"Narasaraopet\"\n",
        "print(\"\\n\",name,\"\\n\",age,\"\\n\",place)"
      ],
      "metadata": {
        "colab": {
          "base_uri": "https://localhost:8080/"
        },
        "id": "0cpI-FbVkuWs",
        "outputId": "14977444-8616-4dd2-f2a6-df71a81c8dc7"
      },
      "execution_count": 9,
      "outputs": [
        {
          "output_type": "stream",
          "name": "stdout",
          "text": [
            "\n",
            " Srini \n",
            " 35 \n",
            " Narasaraopet\n"
          ]
        }
      ]
    },
    {
      "cell_type": "code",
      "source": [
        "# Arthematic operations\n",
        "num1=29\n",
        "num2=7\n",
        "print(\"Add :\",num1+num2,\"\\n\")\n",
        "print(\"Sub :\",num1-num2,\"\\n\")\n",
        "print(\"Div :\",num1/num2,\"\\n\")\n",
        "print(\"Mult :\",num1*num2,\"\\n\")"
      ],
      "metadata": {
        "colab": {
          "base_uri": "https://localhost:8080/"
        },
        "id": "WDFDzDbBlbzO",
        "outputId": "ceb2f211-6c51-41cf-9494-93f9bc756643"
      },
      "execution_count": 10,
      "outputs": [
        {
          "output_type": "stream",
          "name": "stdout",
          "text": [
            "Add : 36 \n",
            "\n",
            "Sub : 22 \n",
            "\n",
            "Div : 4.142857142857143 \n",
            "\n",
            "Mult : 203 \n",
            "\n"
          ]
        }
      ]
    },
    {
      "cell_type": "code",
      "source": [
        "# Get the Datatypes\n",
        "name=\"Srini\"\n",
        "age=35\n",
        "decimal=24.02147\n",
        "print(type(name))\n",
        "print(type(age))\n",
        "print(type(decimal))"
      ],
      "metadata": {
        "colab": {
          "base_uri": "https://localhost:8080/"
        },
        "id": "4KEd8x54mlz2",
        "outputId": "4bfd9793-15dc-4e94-e323-ff2a04fcd34d"
      },
      "execution_count": 14,
      "outputs": [
        {
          "output_type": "stream",
          "name": "stdout",
          "text": [
            "<class 'str'>\n",
            "<class 'int'>\n",
            "<class 'float'>\n"
          ]
        }
      ]
    }
  ]
}