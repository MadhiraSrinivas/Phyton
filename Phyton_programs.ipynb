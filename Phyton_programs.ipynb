{
  "nbformat": 4,
  "nbformat_minor": 0,
  "metadata": {
    "colab": {
      "provenance": [],
      "authorship_tag": "ABX9TyOBjv6NowKHajiQi1vuBIUm",
      "include_colab_link": true
    },
    "kernelspec": {
      "name": "python3",
      "display_name": "Python 3"
    },
    "language_info": {
      "name": "python"
    }
  },
  "cells": [
    {
      "cell_type": "markdown",
      "metadata": {
        "id": "view-in-github",
        "colab_type": "text"
      },
      "source": [
        "<a href=\"https://colab.research.google.com/github/MadhiraSrinivas/Phyton/blob/main/Phyton_programs.ipynb\" target=\"_parent\"><img src=\"https://colab.research.google.com/assets/colab-badge.svg\" alt=\"Open In Colab\"/></a>"
      ]
    },
    {
      "cell_type": "markdown",
      "source": [
        "**This is a Text box to write a comments or notes**"
      ],
      "metadata": {
        "id": "EjZfovyyjB6y"
      }
    },
    {
      "cell_type": "code",
      "execution_count": null,
      "metadata": {
        "colab": {
          "base_uri": "https://localhost:8080/"
        },
        "id": "MKN1Mu1e74pC",
        "outputId": "38a3e8a3-281d-4dd9-b24c-b77f1b9ee5fe"
      },
      "outputs": [
        {
          "output_type": "stream",
          "name": "stdout",
          "text": [
            "Hi Srini !!\n"
          ]
        }
      ],
      "source": [
        "# My First \"Hi\" Phyton Program\n",
        "# -----------------------------\n",
        "\n",
        "print(\"Hi Srini !!\")"
      ]
    },
    {
      "cell_type": "code",
      "source": [
        "# Print Multiple Strings\n",
        "# ----------------------\n",
        "\n",
        "print(\"Hi\", \"Srini\", \"!!\" )"
      ],
      "metadata": {
        "colab": {
          "base_uri": "https://localhost:8080/"
        },
        "id": "zG4OljzUjopK",
        "outputId": "16ece4ff-8a71-4fe9-907c-f6c1731d8be4"
      },
      "execution_count": null,
      "outputs": [
        {
          "output_type": "stream",
          "name": "stdout",
          "text": [
            "Hi Srini !!\n"
          ]
        }
      ]
    },
    {
      "cell_type": "code",
      "source": [
        "# Creating a variable & Value\n",
        "# ---------------------------\n",
        "\n",
        "a=5\n",
        "print(a)"
      ],
      "metadata": {
        "colab": {
          "base_uri": "https://localhost:8080/"
        },
        "id": "y_H6JtwwkLhh",
        "outputId": "095bc043-0069-4daf-df70-11cb28ff093c"
      },
      "execution_count": null,
      "outputs": [
        {
          "output_type": "stream",
          "name": "stdout",
          "text": [
            "5\n"
          ]
        }
      ]
    },
    {
      "cell_type": "code",
      "source": [
        "# Creating a String Variable & Value\n",
        "# ----------------------------------\n",
        "\n",
        "name=\"Srini\"\n",
        "print(name)\n",
        "print(\"Hi \",name,\", Welcome to Phyton\")"
      ],
      "metadata": {
        "colab": {
          "base_uri": "https://localhost:8080/"
        },
        "id": "Mm4ZRCXLka6h",
        "outputId": "cb27c181-a7a2-42d7-c039-220370119213"
      },
      "execution_count": 2,
      "outputs": [
        {
          "output_type": "stream",
          "name": "stdout",
          "text": [
            "Srini\n",
            "Hi  Srini , Welcome to Phyton\n"
          ]
        }
      ]
    },
    {
      "cell_type": "code",
      "source": [
        "# Multiple Values\n",
        "# ---------------\n",
        "\n",
        "name=\"Srini\"\n",
        "age=\"35\"\n",
        "place=\"Narasaraopet\"\n",
        "print(\"\\n\",name,\"\\n\",age,\"\\n\",place)"
      ],
      "metadata": {
        "colab": {
          "base_uri": "https://localhost:8080/"
        },
        "id": "0cpI-FbVkuWs",
        "outputId": "14977444-8616-4dd2-f2a6-df71a81c8dc7"
      },
      "execution_count": null,
      "outputs": [
        {
          "output_type": "stream",
          "name": "stdout",
          "text": [
            "\n",
            " Srini \n",
            " 35 \n",
            " Narasaraopet\n"
          ]
        }
      ]
    },
    {
      "cell_type": "code",
      "source": [
        "# Arthematic operations\n",
        "# ---------------------\n",
        "num1=29\n",
        "num2=7\n",
        "print(\"Add :\",num1+num2,\"\\n\")\n",
        "print(\"Sub :\",num1-num2,\"\\n\")\n",
        "print(\"Div :\",num1/num2,\"\\n\")\n",
        "print(\"Mult :\",num1*num2,\"\\n\")"
      ],
      "metadata": {
        "colab": {
          "base_uri": "https://localhost:8080/"
        },
        "id": "WDFDzDbBlbzO",
        "outputId": "ceb2f211-6c51-41cf-9494-93f9bc756643"
      },
      "execution_count": null,
      "outputs": [
        {
          "output_type": "stream",
          "name": "stdout",
          "text": [
            "Add : 36 \n",
            "\n",
            "Sub : 22 \n",
            "\n",
            "Div : 4.142857142857143 \n",
            "\n",
            "Mult : 203 \n",
            "\n"
          ]
        }
      ]
    },
    {
      "cell_type": "code",
      "source": [
        "# Get the Datatypes\n",
        "# -----------------\n",
        "\n",
        "name=\"Srini\"\n",
        "age=35\n",
        "decimal=24.02147\n",
        "print(type(name))\n",
        "print(type(age))\n",
        "print(type(decimal))"
      ],
      "metadata": {
        "colab": {
          "base_uri": "https://localhost:8080/"
        },
        "id": "4KEd8x54mlz2",
        "outputId": "4bfd9793-15dc-4e94-e323-ff2a04fcd34d"
      },
      "execution_count": null,
      "outputs": [
        {
          "output_type": "stream",
          "name": "stdout",
          "text": [
            "<class 'str'>\n",
            "<class 'int'>\n",
            "<class 'float'>\n"
          ]
        }
      ]
    },
    {
      "cell_type": "code",
      "source": [
        "# Type Convertions\n",
        "# ----------------\n",
        "\n",
        "name=\"Srini\"\n",
        "age=35\n",
        "print(\"\\n\",name,\"\\n\",age)\n",
        "\n",
        "#After type convertion\n",
        "#name_int=int(name) -- Not working\n",
        "str_age=str(age)\n",
        "print(str_age,type(str_age))\n",
        "num_name=int(\"10\")\n",
        "print(num_name, type(num_name))"
      ],
      "metadata": {
        "colab": {
          "base_uri": "https://localhost:8080/"
        },
        "id": "0kEeRx8UF1D0",
        "outputId": "c546748f-92f9-4c89-fcb7-abb202751077"
      },
      "execution_count": 12,
      "outputs": [
        {
          "output_type": "stream",
          "name": "stdout",
          "text": [
            "\n",
            " Srini \n",
            " 35\n",
            "35 <class 'str'>\n",
            "10 <class 'int'>\n"
          ]
        }
      ]
    },
    {
      "cell_type": "code",
      "source": [
        "#Taking input from user\n",
        "#---------------------\n",
        "\n",
        "name=input(\"Enter your name : \")\n",
        "print(\"Hi \",name, \"!!\")"
      ],
      "metadata": {
        "colab": {
          "base_uri": "https://localhost:8080/"
        },
        "id": "ovqWQgFNJcCu",
        "outputId": "e48641c6-73ad-40ea-fe58-942a76cda477"
      },
      "execution_count": 14,
      "outputs": [
        {
          "output_type": "stream",
          "name": "stdout",
          "text": [
            "Enter your name : Srini\n",
            "Hi  Srini !!\n"
          ]
        }
      ]
    },
    {
      "cell_type": "code",
      "source": [
        "#Arthematic Operations through input statement\n",
        "#---------------------------------------------\n",
        "num1 = int(input(\"Enter a number : \"))\n",
        "num2 = int(input(\"Enter another number\"))\n",
        "print(\"Add :\", num1+num2)\n",
        "print(\"Sub :\", num1-num2)\n",
        "print(\"Div :\", num1/num2)\n",
        "print(\"Mult :\",num1*num2)\n",
        "\n"
      ],
      "metadata": {
        "colab": {
          "base_uri": "https://localhost:8080/"
        },
        "id": "Fz5JVN_RKDPt",
        "outputId": "20b791d0-7ce2-4e32-9a00-4eb47ba4aefa"
      },
      "execution_count": 21,
      "outputs": [
        {
          "output_type": "stream",
          "name": "stdout",
          "text": [
            "Enter a number : 5\n",
            "Enter another number5\n",
            "Add : 10\n",
            "Sub : 0\n",
            "Div : 1.0\n",
            "Mult : 25\n"
          ]
        }
      ]
    },
    {
      "cell_type": "code",
      "source": [
        "#Assignment #1\n",
        "#-------------\n",
        "print(\"Srinivasa Reddy Madhira\")\n",
        "print(\"Playing Badminton\")\n",
        "print(\"2 hours\")"
      ],
      "metadata": {
        "colab": {
          "base_uri": "https://localhost:8080/"
        },
        "id": "ettsTW4ORjPG",
        "outputId": "9277848c-30d8-4c45-95df-db8e064ffe9b"
      },
      "execution_count": 1,
      "outputs": [
        {
          "output_type": "stream",
          "name": "stdout",
          "text": [
            "Srinivasa Reddy Madhira\n",
            "Playing Badminton\n",
            "2 hours\n"
          ]
        }
      ]
    },
    {
      "cell_type": "code",
      "source": [
        "#Assignment 2: Working with Variables\n",
        "#-----------------------------------\n",
        "name=\"Srini\"\n",
        "age=35\n",
        "fc=\"Blue\"\n",
        "print(\"My name is \",name,\"I am \",age,\"years old, \",\"and my favorite color is\",fc)"
      ],
      "metadata": {
        "colab": {
          "base_uri": "https://localhost:8080/"
        },
        "id": "rQi6qNx7xJiT",
        "outputId": "a5f8e626-0bab-4281-fd75-520193c36e07"
      },
      "execution_count": 2,
      "outputs": [
        {
          "output_type": "stream",
          "name": "stdout",
          "text": [
            "My name is  Srini I am  35 years old,  and my favorite color is Blue\n"
          ]
        }
      ]
    },
    {
      "cell_type": "code",
      "source": [
        "# Assignment 3: Simple Input and Output\n",
        "#--------------------------------------\n",
        "fname=input(\"Enter your First Name :\")\n",
        "lname=input(\"Enter your Last Name :\")\n",
        "age=int(input(\"Enter your age :\"))\n",
        "\n",
        "print(\"Hello, \",fname,lname,\"! Next year, you will be\", age+1, \"years old.\")\n"
      ],
      "metadata": {
        "colab": {
          "base_uri": "https://localhost:8080/"
        },
        "id": "emzrcFRdyAHn",
        "outputId": "2dfafd76-b9a3-4734-9ea7-b74f5d2bc982"
      },
      "execution_count": 6,
      "outputs": [
        {
          "output_type": "stream",
          "name": "stdout",
          "text": [
            "Enter your First Name :Madhira\n",
            "Enter your Last Name :AarthishReddy\n",
            "Enter your age :11\n",
            "Hello,  Madhira AarthishReddy ! Next year, you will be 12 years old.\n"
          ]
        }
      ]
    },
    {
      "cell_type": "code",
      "source": [
        "# Assignment 4: Basic Arithmetic\n",
        "#------------------------------\n",
        "num1=int(input(\"Enter a number : \"))\n",
        "num2=int(input(\"Enter second number\"))\n",
        "print(\"Add :\",num1+num2)\n",
        "print(\"Diff :\",num1-num2)\n",
        "print(\"Mul :\",num1*num2)\n",
        "print(\"Div :\",num1/num2)"
      ],
      "metadata": {
        "colab": {
          "base_uri": "https://localhost:8080/"
        },
        "id": "wSjfnyLr4gUu",
        "outputId": "f01650ba-ed57-4747-abd5-c5760a88b37f"
      },
      "execution_count": 7,
      "outputs": [
        {
          "output_type": "stream",
          "name": "stdout",
          "text": [
            "Enter a number : 296\n",
            "Enter second number277\n",
            "Add : 573\n",
            "Diff : 19\n",
            "Mul : 81992\n",
            "Div : 1.068592057761733\n"
          ]
        }
      ]
    },
    {
      "cell_type": "code",
      "source": [
        "#Assignment 5: Combining Strings and Numbers\n",
        "#Enter your name: Alice\n",
        "#Enter your favorite number: 7\n",
        "#Hello, Alice! Did you know that 7 times 2 is 14?\n",
        "\n",
        "name=input(\"Enter your name :\")\n",
        "num=int(input(\"Enter your faviourit number\"))\n",
        "print(\"Hello, \",name,\"Did you know that\",num,\"times 2 is \",num*2,\"?\")"
      ],
      "metadata": {
        "colab": {
          "base_uri": "https://localhost:8080/"
        },
        "id": "JYwCOmUJOwau",
        "outputId": "b9469812-0ca7-4a09-9783-8fc8549cd0e0"
      },
      "execution_count": 10,
      "outputs": [
        {
          "output_type": "stream",
          "name": "stdout",
          "text": [
            "Enter your name :pl\n",
            "Enter your faviourit number4\n",
            "Hello,  pl Did you know that 4 times 2 is  8 ?\n"
          ]
        }
      ]
    },
    {
      "cell_type": "code",
      "source": [
        "#Child\" if the age is less than 13 - Done\n",
        "#Teenager\" if the age is between 13 and 19\n",
        "#Adult\" if the age is between 20 and 64\n",
        "#Senior\" if the age is 65 or older\n",
        "\n",
        "age = int(input(\"Enter your Age :\"))\n",
        "if(age<13):\n",
        "  print(\"Your are a Child\")\n",
        "if(age>=13 and age<=19):\n",
        "    print(\"You are a Teenager\")\n",
        "if(age>19 and age<65):\n",
        "    print(\"You are a Adult\")\n",
        "else:\n",
        "  print(\"You are a Senior\")"
      ],
      "metadata": {
        "colab": {
          "base_uri": "https://localhost:8080/"
        },
        "id": "UVqkOVf6WDCL",
        "outputId": "d9f4aa84-1ef7-4f05-c723-0bc4a5f4bad9"
      },
      "execution_count": 31,
      "outputs": [
        {
          "output_type": "stream",
          "name": "stdout",
          "text": [
            "Enter your Age :65\n",
            "You are a Senior\n"
          ]
        }
      ]
    },
    {
      "cell_type": "code",
      "source": [
        "#Check if the first number is greater than the second number.\n",
        "#Check if the two numbers are equal.\n",
        "#Check if the first number is less than or equal to the second number.\n",
        "#Print appropriate messages based on the comparisons.\n",
        "\n",
        "n1=int(input(\"Enter a number\"))\n",
        "n2=int(input(\"Enter a number\"))\n",
        "if(n1>n2):\n",
        "  print(n1,\"is greater than \",n2)\n",
        "if(n1==n2):\n",
        "  print(\"Both\",n1,n2,\"are equal\")\n",
        "if(n1<n2):\n",
        "  print(n1,\"is less than\",n2)\n"
      ],
      "metadata": {
        "colab": {
          "base_uri": "https://localhost:8080/"
        },
        "id": "tWLWYT9qett0",
        "outputId": "8e62db89-8669-41d9-9ad9-95bdbfbca419"
      },
      "execution_count": 40,
      "outputs": [
        {
          "output_type": "stream",
          "name": "stdout",
          "text": [
            "Enter a number34\n",
            "Enter a number68\n",
            "34 is less than 68\n"
          ]
        }
      ]
    },
    {
      "cell_type": "code",
      "source": [
        "#Ask the user to input two numbers.\n",
        "#Ask the user to choose an operation (+, -, *, /).\n",
        "#Perform the operation on the two numbers and print the result.\n",
        "#Handle cases where the user might enter an invalid operation\n",
        "\n",
        "n1=int(input(\"Enter a number : \"))\n",
        "n2=int(input(\"Enter a number : \"))\n",
        "oper=input(\"Enter Operation : \")\n",
        "\n",
        "if(oper==\"+\"):\n",
        "  result = n1+n2\n",
        "  print(\"Result is\",result)\n",
        "elif(oper==\"-\"):\n",
        "  result = n1-n2\n",
        "  print(\"Result is\",result)\n",
        "elif(oper==\"*\"):\n",
        "  result = n1*n2\n",
        "  print(\"Result is\",result)\n",
        "elif(oper==\"/\"):\n",
        "  result = n1/n2\n",
        "  print(\"Result is\",result)\n",
        "else:\n",
        "  print(\"You have entered invalid Operation\")"
      ],
      "metadata": {
        "colab": {
          "base_uri": "https://localhost:8080/"
        },
        "id": "9IcsOkGOtBZn",
        "outputId": "26895ae5-85cd-4867-b5eb-19b8e7ea9e72"
      },
      "execution_count": 45,
      "outputs": [
        {
          "output_type": "stream",
          "name": "stdout",
          "text": [
            "Enter a number : 5\n",
            "Enter a number : 5\n",
            "Enter Operation : *\n",
            "Result is 25\n"
          ]
        }
      ]
    },
    {
      "cell_type": "code",
      "source": [
        "#Assignment 4: Sum of Even Numbers\n",
        "total = 0\n",
        "for num in range(1,11):\n",
        "  if(num%2==0):\n",
        "    total=total+num\n",
        "print(\"Sum of even numbers between 1 to 10 is\",total)"
      ],
      "metadata": {
        "colab": {
          "base_uri": "https://localhost:8080/"
        },
        "id": "MGyBcdyF2mN4",
        "outputId": "0f3f451c-f802-43d1-d994-e9cba3c7cc34"
      },
      "execution_count": 55,
      "outputs": [
        {
          "output_type": "stream",
          "name": "stdout",
          "text": [
            "Sum of even numbers between 1 to 10 is 30\n"
          ]
        }
      ]
    }
  ]
}