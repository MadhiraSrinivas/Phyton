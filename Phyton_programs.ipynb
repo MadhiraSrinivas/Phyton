{
  "nbformat": 4,
  "nbformat_minor": 0,
  "metadata": {
    "colab": {
      "provenance": [],
      "authorship_tag": "ABX9TyNER5C72hljXMXt1IBtmbEE",
      "include_colab_link": true
    },
    "kernelspec": {
      "name": "python3",
      "display_name": "Python 3"
    },
    "language_info": {
      "name": "python"
    }
  },
  "cells": [
    {
      "cell_type": "markdown",
      "metadata": {
        "id": "view-in-github",
        "colab_type": "text"
      },
      "source": [
        "<a href=\"https://colab.research.google.com/github/MadhiraSrinivas/Phyton/blob/main/Phyton_programs.ipynb\" target=\"_parent\"><img src=\"https://colab.research.google.com/assets/colab-badge.svg\" alt=\"Open In Colab\"/></a>"
      ]
    },
    {
      "cell_type": "markdown",
      "source": [
        "**This is a Text box to write a comments or notes**"
      ],
      "metadata": {
        "id": "EjZfovyyjB6y"
      }
    },
    {
      "cell_type": "code",
      "execution_count": null,
      "metadata": {
        "colab": {
          "base_uri": "https://localhost:8080/"
        },
        "id": "MKN1Mu1e74pC",
        "outputId": "38a3e8a3-281d-4dd9-b24c-b77f1b9ee5fe"
      },
      "outputs": [
        {
          "output_type": "stream",
          "name": "stdout",
          "text": [
            "Hi Srini !!\n"
          ]
        }
      ],
      "source": [
        "# My First \"Hi\" Phyton Program\n",
        "# -----------------------------\n",
        "\n",
        "print(\"Hi Srini !!\")"
      ]
    },
    {
      "cell_type": "code",
      "source": [
        "# Print Multiple Strings\n",
        "# ----------------------\n",
        "\n",
        "print(\"Hi\", \"Srini\", \"!!\" )"
      ],
      "metadata": {
        "colab": {
          "base_uri": "https://localhost:8080/"
        },
        "id": "zG4OljzUjopK",
        "outputId": "16ece4ff-8a71-4fe9-907c-f6c1731d8be4"
      },
      "execution_count": null,
      "outputs": [
        {
          "output_type": "stream",
          "name": "stdout",
          "text": [
            "Hi Srini !!\n"
          ]
        }
      ]
    },
    {
      "cell_type": "code",
      "source": [
        "# Creating a variable & Value\n",
        "# ---------------------------\n",
        "\n",
        "a=5\n",
        "print(a)"
      ],
      "metadata": {
        "colab": {
          "base_uri": "https://localhost:8080/"
        },
        "id": "y_H6JtwwkLhh",
        "outputId": "095bc043-0069-4daf-df70-11cb28ff093c"
      },
      "execution_count": null,
      "outputs": [
        {
          "output_type": "stream",
          "name": "stdout",
          "text": [
            "5\n"
          ]
        }
      ]
    },
    {
      "cell_type": "code",
      "source": [
        "# Creating a String Variable & Value\n",
        "# ----------------------------------\n",
        "\n",
        "name=\"Srini\"\n",
        "print(name)\n",
        "print(\"Hi \",name,\", Welcome to Phyton\")"
      ],
      "metadata": {
        "colab": {
          "base_uri": "https://localhost:8080/"
        },
        "id": "Mm4ZRCXLka6h",
        "outputId": "cb27c181-a7a2-42d7-c039-220370119213"
      },
      "execution_count": 2,
      "outputs": [
        {
          "output_type": "stream",
          "name": "stdout",
          "text": [
            "Srini\n",
            "Hi  Srini , Welcome to Phyton\n"
          ]
        }
      ]
    },
    {
      "cell_type": "code",
      "source": [
        "# Multiple Values\n",
        "# ---------------\n",
        "\n",
        "name=\"Srini\"\n",
        "age=\"35\"\n",
        "place=\"Narasaraopet\"\n",
        "print(\"\\n\",name,\"\\n\",age,\"\\n\",place)"
      ],
      "metadata": {
        "colab": {
          "base_uri": "https://localhost:8080/"
        },
        "id": "0cpI-FbVkuWs",
        "outputId": "14977444-8616-4dd2-f2a6-df71a81c8dc7"
      },
      "execution_count": null,
      "outputs": [
        {
          "output_type": "stream",
          "name": "stdout",
          "text": [
            "\n",
            " Srini \n",
            " 35 \n",
            " Narasaraopet\n"
          ]
        }
      ]
    },
    {
      "cell_type": "code",
      "source": [
        "# Arthematic operations\n",
        "# ---------------------\n",
        "num1=29\n",
        "num2=7\n",
        "print(\"Add :\",num1+num2,\"\\n\")\n",
        "print(\"Sub :\",num1-num2,\"\\n\")\n",
        "print(\"Div :\",num1/num2,\"\\n\")\n",
        "print(\"Mult :\",num1*num2,\"\\n\")"
      ],
      "metadata": {
        "colab": {
          "base_uri": "https://localhost:8080/"
        },
        "id": "WDFDzDbBlbzO",
        "outputId": "ceb2f211-6c51-41cf-9494-93f9bc756643"
      },
      "execution_count": null,
      "outputs": [
        {
          "output_type": "stream",
          "name": "stdout",
          "text": [
            "Add : 36 \n",
            "\n",
            "Sub : 22 \n",
            "\n",
            "Div : 4.142857142857143 \n",
            "\n",
            "Mult : 203 \n",
            "\n"
          ]
        }
      ]
    },
    {
      "cell_type": "code",
      "source": [
        "# Get the Datatypes\n",
        "# -----------------\n",
        "\n",
        "name=\"Srini\"\n",
        "age=35\n",
        "decimal=24.02147\n",
        "print(type(name))\n",
        "print(type(age))\n",
        "print(type(decimal))"
      ],
      "metadata": {
        "colab": {
          "base_uri": "https://localhost:8080/"
        },
        "id": "4KEd8x54mlz2",
        "outputId": "4bfd9793-15dc-4e94-e323-ff2a04fcd34d"
      },
      "execution_count": null,
      "outputs": [
        {
          "output_type": "stream",
          "name": "stdout",
          "text": [
            "<class 'str'>\n",
            "<class 'int'>\n",
            "<class 'float'>\n"
          ]
        }
      ]
    },
    {
      "cell_type": "code",
      "source": [
        "# Type Convertions\n",
        "# ----------------\n",
        "\n",
        "name=\"Srini\"\n",
        "age=35\n",
        "print(\"\\n\",name,\"\\n\",age)\n",
        "\n",
        "#After type convertion\n",
        "#name_int=int(name) -- Not working\n",
        "str_age=str(age)\n",
        "print(str_age,type(str_age))\n",
        "num_name=int(\"10\")\n",
        "print(num_name, type(num_name))"
      ],
      "metadata": {
        "id": "0kEeRx8UF1D0",
        "outputId": "c546748f-92f9-4c89-fcb7-abb202751077",
        "colab": {
          "base_uri": "https://localhost:8080/"
        }
      },
      "execution_count": 12,
      "outputs": [
        {
          "output_type": "stream",
          "name": "stdout",
          "text": [
            "\n",
            " Srini \n",
            " 35\n",
            "35 <class 'str'>\n",
            "10 <class 'int'>\n"
          ]
        }
      ]
    },
    {
      "cell_type": "code",
      "source": [
        "#Taking input from user\n",
        "#---------------------\n",
        "\n",
        "name=input(\"Enter your name : \")\n",
        "print(\"Hi \",name, \"!!\")"
      ],
      "metadata": {
        "id": "ovqWQgFNJcCu",
        "outputId": "e48641c6-73ad-40ea-fe58-942a76cda477",
        "colab": {
          "base_uri": "https://localhost:8080/"
        }
      },
      "execution_count": 14,
      "outputs": [
        {
          "output_type": "stream",
          "name": "stdout",
          "text": [
            "Enter your name : Srini\n",
            "Hi  Srini !!\n"
          ]
        }
      ]
    },
    {
      "cell_type": "code",
      "source": [
        "#Arthematic Operations through input statement\n",
        "#---------------------------------------------\n",
        "num1 = int(input(\"Enter a number : \"))\n",
        "num2 = int(input(\"Enter another number\"))\n",
        "print(\"Add :\", num1+num2)\n",
        "print(\"Sub :\", num1-num2)\n",
        "print(\"Div :\", num1/num2)\n",
        "print(\"Mult :\",num1*num2)\n",
        "\n"
      ],
      "metadata": {
        "id": "Fz5JVN_RKDPt",
        "outputId": "20b791d0-7ce2-4e32-9a00-4eb47ba4aefa",
        "colab": {
          "base_uri": "https://localhost:8080/"
        }
      },
      "execution_count": 21,
      "outputs": [
        {
          "output_type": "stream",
          "name": "stdout",
          "text": [
            "Enter a number : 5\n",
            "Enter another number5\n",
            "Add : 10\n",
            "Sub : 0\n",
            "Div : 1.0\n",
            "Mult : 25\n"
          ]
        }
      ]
    },
    {
      "cell_type": "code",
      "source": [],
      "metadata": {
        "id": "ettsTW4ORjPG",
        "outputId": "33badc9c-d0d6-424b-aa47-9503707cdca8",
        "colab": {
          "base_uri": "https://localhost:8080/"
        }
      },
      "execution_count": 22,
      "outputs": [
        {
          "output_type": "stream",
          "name": "stdout",
          "text": [
            "<class 'list'>\n",
            "[[1, 2, 3]]\n"
          ]
        }
      ]
    }
  ]
}